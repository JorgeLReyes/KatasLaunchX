{
 "cells": [
  {
   "cell_type": "markdown",
   "metadata": {},
   "source": [
    "Ejercicio - Escribir declaraciones if, else, y elif\n",
    "\n",
    "Problema 1"
   ]
  },
  {
   "cell_type": "code",
   "execution_count": 2,
   "metadata": {},
   "outputs": [
    {
     "name": "stdout",
     "output_type": "stream",
     "text": [
      "Peligro, se acerca un asteroide a 49 kilometros\n"
     ]
    }
   ],
   "source": [
    "asteroide = 49\n",
    "\n",
    "if asteroide > 25:\n",
    "    print(\"Peligro, se acerca un asteroide a \"+str(asteroide)+\" kilometros\")"
   ]
  },
  {
   "cell_type": "markdown",
   "metadata": {},
   "source": [
    "Problema 2"
   ]
  },
  {
   "cell_type": "code",
   "execution_count": 5,
   "metadata": {},
   "outputs": [
    {
     "name": "stdout",
     "output_type": "stream",
     "text": [
      "Sin peligros por ahora\n"
     ]
    }
   ],
   "source": [
    "asteroide = 19\n",
    "\n",
    "if asteroide>20:\n",
    "    print(\"Mira arriba se produce un rayo de luz que se puede ver desde la Tierra\")\n",
    "elif asteroide==20:\n",
    "    print(\"Mira arriba se produce un rayo de luz que se puede ver desde la Tierra\")\n",
    "else:\n",
    "    print(\"Sin peligros por ahora\")"
   ]
  },
  {
   "cell_type": "markdown",
   "metadata": {},
   "source": [
    "Problema 3"
   ]
  },
  {
   "cell_type": "code",
   "execution_count": 9,
   "metadata": {},
   "outputs": [
    {
     "name": "stdout",
     "output_type": "stream",
     "text": [
      "Peligro, daño inminente\n"
     ]
    }
   ],
   "source": [
    "tamaño = 26\n",
    "velocidad =40\n",
    "\n",
    "if tamaño > 25 and velocidad > 25:\n",
    "    print(\"Peligro, daño inminente\")\n",
    "elif velocidad >= 20:\n",
    "    print(\"Mira arriba\")\n",
    "elif tamaño < 25:\n",
    "    print(\"Sin peligro\")\n",
    "else:\n",
    "    print(\"Sin peligro\")\n"
   ]
  }
 ],
 "metadata": {
  "interpreter": {
   "hash": "669f5abd92f1a410df15b0643b9f42360e277a412fc08ae8bc7d7911cf7e8f3d"
  },
  "kernelspec": {
   "display_name": "Python 3.10.2 64-bit",
   "language": "python",
   "name": "python3"
  },
  "language_info": {
   "codemirror_mode": {
    "name": "ipython",
    "version": 3
   },
   "file_extension": ".py",
   "mimetype": "text/x-python",
   "name": "python",
   "nbconvert_exporter": "python",
   "pygments_lexer": "ipython3",
   "version": "3.10.2"
  },
  "orig_nbformat": 4
 },
 "nbformat": 4,
 "nbformat_minor": 2
}
