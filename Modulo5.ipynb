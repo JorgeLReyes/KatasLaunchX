{
 "cells": [
  {
   "cell_type": "markdown",
   "metadata": {},
   "source": [
    "Ejercicio 1 Utilizar operadores aritméticos"
   ]
  },
  {
   "cell_type": "code",
   "execution_count": 6,
   "metadata": {},
   "outputs": [
    {
     "name": "stdout",
     "output_type": "stream",
     "text": [
      "628949330\n",
      "390577534\n"
     ]
    }
   ],
   "source": [
    "#Creando variables\n",
    "tierra = 149597870 #km\n",
    "jupiter = 778547200 #km\n",
    "\n",
    "#Realizando operacion\n",
    "resta = jupiter-tierra\n",
    "print(resta)\n",
    "millas = resta * 0.621\n",
    "print(round(millas))"
   ]
  },
  {
   "cell_type": "markdown",
   "metadata": {},
   "source": [
    "Ejercicio 2: convierte cadenas en números y usa valores absolutos"
   ]
  },
  {
   "cell_type": "code",
   "execution_count": 3,
   "metadata": {},
   "outputs": [],
   "source": [
    "#Entrada de datos\n",
    "planeta1 = input(\"Ingrese distancia al sol del planeta (km)\")\n",
    "planeta2 = input(\"Ingrese distancia al sol del planeta (km)\")"
   ]
  },
  {
   "cell_type": "code",
   "execution_count": 4,
   "metadata": {},
   "outputs": [
    {
     "name": "stdout",
     "output_type": "stream",
     "text": [
      "78300000\n",
      "48624300.0\n"
     ]
    }
   ],
   "source": [
    "#Tierra\t149600000\n",
    "#Marte\t227900000\n",
    "\n",
    "#Haciendo conversion\n",
    "p1 = int(planeta1)\n",
    "p2 = int(planeta2)\n",
    "\n",
    "resta = p2-p1\n",
    "print(abs(resta))\n",
    "\n",
    "millas = resta * 0.621\n",
    "print(millas)\n"
   ]
  }
 ],
 "metadata": {
  "interpreter": {
   "hash": "669f5abd92f1a410df15b0643b9f42360e277a412fc08ae8bc7d7911cf7e8f3d"
  },
  "kernelspec": {
   "display_name": "Python 3.10.2 64-bit",
   "language": "python",
   "name": "python3"
  },
  "language_info": {
   "codemirror_mode": {
    "name": "ipython",
    "version": 3
   },
   "file_extension": ".py",
   "mimetype": "text/x-python",
   "name": "python",
   "nbconvert_exporter": "python",
   "pygments_lexer": "ipython3",
   "version": "3.10.2"
  },
  "orig_nbformat": 4
 },
 "nbformat": 4,
 "nbformat_minor": 2
}
