{
 "cells": [
  {
   "cell_type": "markdown",
   "metadata": {},
   "source": [
    "Ejercicio1: Crear y usar listas de Python"
   ]
  },
  {
   "cell_type": "code",
   "execution_count": 9,
   "metadata": {},
   "outputs": [
    {
     "name": "stdout",
     "output_type": "stream",
     "text": [
      "Numero de planetas: 8\n",
      "Numero de planetas: 9\n",
      "El último planeta es: Pluton\n"
     ]
    }
   ],
   "source": [
    "#Agregando planetas\n",
    "planets = [\"Mercurio\",\"Venus\",\"Tierra\",\"Marte\",\"Jupiter\",\"Saturno\",\"Urano\",\"Neptuno\"]\n",
    "longPlanets = len(planets)\n",
    "print(\"Numero de planetas: \"+str(longPlanets))\n",
    "\n",
    "#Agregando pluton\n",
    "planets.append(\"Pluton\")\n",
    "longPlanets = len(planets)\n",
    "print(\"Numero de planetas: \"+str(longPlanets)+\"\\nEl último planeta es: \"+planets[-1])\n"
   ]
  },
  {
   "cell_type": "markdown",
   "metadata": {},
   "source": [
    "Ejercicio 2: Trabajando con datos de una lista"
   ]
  },
  {
   "cell_type": "code",
   "execution_count": 3,
   "metadata": {},
   "outputs": [
    {
     "name": "stdout",
     "output_type": "stream",
     "text": [
      "Los planetas mas cercanos a Earth son:\n",
      "['Mercury', 'Venus']\n",
      "Los planetas mas lejanos a Earth son:\n",
      "['Mars', 'Jupiter', 'Saturn', 'Neptune']\n"
     ]
    }
   ],
   "source": [
    "#Planetas\n",
    "planets = ['Mercury', 'Venus', 'Earth', 'Mars', 'Jupiter', 'Saturn', 'Neptune']\n",
    "\n",
    "#Pidiendo el planeta\n",
    "usuario = input(\"Ingrese un planeta del sistema solar: \")\n",
    "\n",
    "#Buscando el planeta\n",
    "buscar = planets.index(usuario)\n",
    "\n",
    "#Planetas mas cercanos al ingresado\n",
    "print(\"Los planetas mas cercanos a \" + usuario + \" son:\")\n",
    "print(planets[0:buscar])\n",
    "\n",
    "#Planetas mas lejanos al ingresado\n",
    "print(\"Los planetas mas lejanos a \" + usuario + \" son:\")\n",
    "#buscar+1 para que no nos muestre el planeta ingresado\n",
    "#print(planets[buscar+1:len(planets)+1])\n",
    "print(planets[buscar+1:len(planets)+1])"
   ]
  }
 ],
 "metadata": {
  "interpreter": {
   "hash": "669f5abd92f1a410df15b0643b9f42360e277a412fc08ae8bc7d7911cf7e8f3d"
  },
  "kernelspec": {
   "display_name": "Python 3.10.2 64-bit",
   "language": "python",
   "name": "python3"
  },
  "language_info": {
   "codemirror_mode": {
    "name": "ipython",
    "version": 3
   },
   "file_extension": ".py",
   "mimetype": "text/x-python",
   "name": "python",
   "nbconvert_exporter": "python",
   "pygments_lexer": "ipython3",
   "version": "3.10.2"
  },
  "orig_nbformat": 4
 },
 "nbformat": 4,
 "nbformat_minor": 2
}
