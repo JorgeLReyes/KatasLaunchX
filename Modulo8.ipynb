{
 "cells": [
  {
   "cell_type": "markdown",
   "metadata": {},
   "source": [
    "Ejercicio 1: Creación de diccionarios de Python"
   ]
  },
  {
   "cell_type": "code",
   "execution_count": 18,
   "metadata": {},
   "outputs": [
    {
     "name": "stdout",
     "output_type": "stream",
     "text": [
      "The planet Mars have 2 moons\n",
      "La circunferencia polar de Mars es 6752\n"
     ]
    }
   ],
   "source": [
    "planeta = {\n",
    "    'name' : \"Mars\",\n",
    "    'moons': 2}\n",
    "\n",
    "print(f\"The planet {planeta['name']} have {planeta['moons']} moons\")\n",
    "\n",
    "planeta ['circunferencia (km)']={\n",
    "        'polar': 6752,\n",
    "        'equatorial': 6792\n",
    "    }\n",
    "\n",
    "print(f\"La circunferencia polar de {planeta['name']} es {planeta['circunferencia (km)']['polar']}\")"
   ]
  },
  {
   "cell_type": "markdown",
   "metadata": {},
   "source": [
    "Ejercicio 2: Programación dinámica con diccionarios"
   ]
  },
  {
   "cell_type": "code",
   "execution_count": 2,
   "metadata": {},
   "outputs": [
    {
     "name": "stdout",
     "output_type": "stream",
     "text": [
      "Numero de lunas: 214\n",
      "Promedio de lunas: 18\n"
     ]
    }
   ],
   "source": [
    "from math import ceil\n",
    "\n",
    "planet_moons = {\n",
    "    'mercury': 0,\n",
    "    'venus': 0,\n",
    "    'earth': 1,\n",
    "    'mars': 2,\n",
    "    'jupiter': 79,\n",
    "    'saturn': 82,\n",
    "    'uranus': 27,\n",
    "    'neptune': 14,\n",
    "    'pluto': 5,\n",
    "    'haumea': 2,\n",
    "    'makemake': 1,\n",
    "    'eris': 1\n",
    "}\n",
    "\n",
    "moons = 0\n",
    "planets = len(planet_moons.keys())\n",
    "\n",
    "#for lunas in planet_moons.values():\n",
    "#    moons += lunas\n",
    "\n",
    "moons = sum(planet_moons.values())\n",
    "\n",
    "prom = ceil(moons/planets)\n",
    "\n",
    "print(\"Numero de lunas: \"+str(moons))\n",
    "print(\"Promedio de lunas: \"+str(prom))\n"
   ]
  }
 ],
 "metadata": {
  "interpreter": {
   "hash": "669f5abd92f1a410df15b0643b9f42360e277a412fc08ae8bc7d7911cf7e8f3d"
  },
  "kernelspec": {
   "display_name": "Python 3.10.2 64-bit",
   "language": "python",
   "name": "python3"
  },
  "language_info": {
   "codemirror_mode": {
    "name": "ipython",
    "version": 3
   },
   "file_extension": ".py",
   "mimetype": "text/x-python",
   "name": "python",
   "nbconvert_exporter": "python",
   "pygments_lexer": "ipython3",
   "version": "3.10.2"
  },
  "orig_nbformat": 4
 },
 "nbformat": 4,
 "nbformat_minor": 2
}
