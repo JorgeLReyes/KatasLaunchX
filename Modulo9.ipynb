{
 "cells": [
  {
   "cell_type": "markdown",
   "metadata": {},
   "source": [
    "Ejercicio 1: Trabajar con argumentos en funciones"
   ]
  },
  {
   "cell_type": "code",
   "execution_count": 64,
   "metadata": {},
   "outputs": [
    {
     "name": "stdout",
     "output_type": "stream",
     "text": [
      "Fuel Report:\n",
      "    Total Average: 78.33333333333333%\n",
      "    Main tank: 80%\n",
      "    External tank: 70%\n",
      "    Hydrogen tank: 85% \n",
      "    \n",
      "78.33333333333333\n",
      "\n",
      "Fuel Report:\n",
      "    Total Average: 78.33333333333333%\n",
      "    Main tank: 80%\n",
      "    External tank: 70%\n",
      "    Hydrogen tank: 85% \n",
      "    \n"
     ]
    }
   ],
   "source": [
    "def generate_report(main_tank, external_tank, hydrogen_tank):\n",
    "    total_average = (main_tank + external_tank + hydrogen_tank) / 3\n",
    "    return f\"\"\"Fuel Report:\n",
    "    Total Average: {total_average}%\n",
    "    Main tank: {main_tank}%\n",
    "    External tank: {external_tank}%\n",
    "    Hydrogen tank: {hydrogen_tank}% \n",
    "    \"\"\"\n",
    "# Llamamos a la función que genera el reporte print(funcion(tanque1, tanque2, tanque3))\n",
    "print(generate_report(80, 70, 85))\n",
    "\n",
    "\n",
    "def generarReporte(*valores):\n",
    "    total_average = sum(valores)\n",
    "    n = len(valores)\n",
    "    return total_average / n\n",
    "\n",
    "print(f\"\"\"{generarReporte(80,70,85)}\n",
    "\"\"\")\n",
    "\n",
    "#Actualiza la función\n",
    "def generate_report(main_tank, external_tank, hydrogen_tank):\n",
    "    return f\"\"\"Fuel Report:\n",
    "    Total Average: {generarReporte(main_tank, external_tank, hydrogen_tank)}%\n",
    "    Main tank: {main_tank}%\n",
    "    External tank: {external_tank}%\n",
    "    Hydrogen tank: {hydrogen_tank}% \n",
    "    \"\"\"\n",
    "\n",
    "print(generate_report(80, 70, 85))\n"
   ]
  },
  {
   "cell_type": "code",
   "execution_count": 65,
   "metadata": {},
   "outputs": [
    {
     "name": "stdout",
     "output_type": "stream",
     "text": [
      "Reporte:\n",
      "    Hora de prelanzamiento: 14\n",
      "    Tiempo de vuelo: 15\n",
      "    Destino: Tierra\n",
      "    Tanque externo: 70%\n",
      "    Tanque interno: 85%\n",
      "    \n",
      "Reporte de mision:\n",
      "    Destino: Tierra\n",
      "    Tiempo: 76 minutos\n",
      "    Tanque restante: 500000\n",
      "    Informe de tanque: main\n",
      "        300000 gal. restantes\n",
      "    Informe de tanque: external\n",
      "        200000 gal. restantes\n",
      "    \n"
     ]
    }
   ],
   "source": [
    "def informeMision (horaPrelanzamiento, tiempoDeVuelo, destino, tanqueExterno, tanqueinterno):\n",
    "    return f\"\"\"Reporte:\n",
    "    Hora de prelanzamiento: {horaPrelanzamiento}\n",
    "    Tiempo de vuelo: {tiempoDeVuelo}\n",
    "    Destino: {destino}\n",
    "    Tanque externo: {tanqueExterno}%\n",
    "    Tanque interno: {tanqueinterno}%\n",
    "    \"\"\"\n",
    "\n",
    "print(informeMision(14, 15, 'Tierra', 70, 85))\n",
    "\n",
    "def informeMision(destino, *minutos, **tanque):\n",
    "    reporte=f\"\"\"Reporte de mision:\n",
    "    Destino: {destino}\n",
    "    Tiempo: {sum(minutos)} minutos\n",
    "    Tanque restante: {sum(tanque.values())}\n",
    "    \"\"\"\n",
    "\n",
    "    for gasolina, glnes in tanque.items():\n",
    "        reporte += f\"\"\"Informe de tanque: {gasolina}\n",
    "        {glnes} gal. restantes\n",
    "    \"\"\"\n",
    "\n",
    "    return reporte\n",
    "\n",
    "print(informeMision(\"Tierra\", 10, 15, 51, main=300000, external=200000))"
   ]
  }
 ],
 "metadata": {
  "interpreter": {
   "hash": "669f5abd92f1a410df15b0643b9f42360e277a412fc08ae8bc7d7911cf7e8f3d"
  },
  "kernelspec": {
   "display_name": "Python 3.10.2 64-bit",
   "language": "python",
   "name": "python3"
  },
  "language_info": {
   "codemirror_mode": {
    "name": "ipython",
    "version": 3
   },
   "file_extension": ".py",
   "mimetype": "text/x-python",
   "name": "python",
   "nbconvert_exporter": "python",
   "pygments_lexer": "ipython3",
   "version": "3.10.2"
  },
  "orig_nbformat": 4
 },
 "nbformat": 4,
 "nbformat_minor": 2
}
